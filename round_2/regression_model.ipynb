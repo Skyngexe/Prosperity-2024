{
 "cells": [
  {
   "cell_type": "code",
   "execution_count": 3,
   "metadata": {},
   "outputs": [],
   "source": [
    "from pathlib import Path\n",
    "\n",
    "import pandas as pd\n",
    "from sklearn.linear_model import LinearRegression\n",
    "from sklearn.metrics import mean_squared_error\n",
    "from sklearn.model_selection import train_test_split\n",
    "\n",
    "file_path = Path(\"data/round-2-island-data-bottle\")"
   ]
  },
  {
   "cell_type": "code",
   "execution_count": 4,
   "metadata": {},
   "outputs": [
    {
     "name": "stdout",
     "output_type": "stream",
     "text": [
      "File loaded successfully.\n"
     ]
    }
   ],
   "source": [
    "if file_path.exists():\n",
    "    # Read the CSV file\n",
    "    df_day_min_1 = pd.read_csv(\n",
    "        file_path / \"prices_round_2_day_-1.csv\", delimiter=\";\"\n",
    "    )  # day -1\n",
    "    df_day_0 = pd.read_csv(\n",
    "        file_path / \"prices_round_2_day_0.csv\", delimiter=\";\"\n",
    "    )  # day 0\n",
    "    df_day_plus_1 = pd.read_csv(\n",
    "        file_path / \"prices_round_2_day_1.csv\", delimiter=\";\"\n",
    "    )  # day 1\n",
    "    print(\"File loaded successfully.\")\n",
    "else:\n",
    "    print(\"File not found. Please ensure the file exists at:\", file_path)\n",
    "\n",
    "df_day_0[\"timestamp\"] += 1000001  # edit timestamp\n",
    "df_day_plus_1[\"timestamp\"] += 2000002  # edit timestamp\n",
    "\n",
    "df_day_min_1[\"DAY\"] = \"day_-1\"\n",
    "df_day_0[\"DAY\"] = \"day_0\"\n",
    "df_day_plus_1[\"DAY\"] = \"day_+1\"\n",
    "\n",
    "day_to_num = {\"day_-1\": -1, \"day_0\": 0, \"day_+1\": 1}\n",
    "df = pd.concat([df_day_min_1, df_day_0, df_day_plus_1], ignore_index=True)"
   ]
  },
  {
   "cell_type": "code",
   "execution_count": null,
   "metadata": {},
   "outputs": [],
   "source": []
  }
 ],
 "metadata": {
  "kernelspec": {
   "display_name": "prosperity-year2-b-fUdz0r-py3.9",
   "language": "python",
   "name": "python3"
  },
  "language_info": {
   "codemirror_mode": {
    "name": "ipython",
    "version": 3
   },
   "file_extension": ".py",
   "mimetype": "text/x-python",
   "name": "python",
   "nbconvert_exporter": "python",
   "pygments_lexer": "ipython3",
   "version": "3.9.18"
  }
 },
 "nbformat": 4,
 "nbformat_minor": 2
}
